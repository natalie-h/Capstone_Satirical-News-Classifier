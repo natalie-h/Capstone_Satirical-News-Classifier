{
 "cells": [
  {
   "cell_type": "markdown",
   "metadata": {},
   "source": [
    "In **NYT_final_articles.csv**\n",
    "\n",
    "These columns are being saved (for now):\n",
    "- 'articleWordCount': **Integer** - number of words in article\n",
    "- 'headline': String - headline of article (if known)\n",
    "- 'keywords': String - keyword(s) associated with article; assigned by NYT\n",
    "- 'pubDate': String - date article was published\n",
    "- 'source': String - newspaper the article is from\n",
    "- 'newDesk': String - classification of article by NYT\n",
    "- 'sectionName': String - classification of article's section in newspaper by NYT\n",
    "- 'typeOfMaterial': String - classification of article by NYT\n",
    "- 'webURL': String - URL of article on nytimes.com"
   ]
  },
  {
   "cell_type": "code",
   "execution_count": null,
   "metadata": {},
   "outputs": [],
   "source": []
  }
 ],
 "metadata": {
  "kernelspec": {
   "display_name": "Python [default]",
   "language": "python",
   "name": "python3"
  },
  "language_info": {
   "codemirror_mode": {
    "name": "ipython",
    "version": 3
   },
   "file_extension": ".py",
   "mimetype": "text/x-python",
   "name": "python",
   "nbconvert_exporter": "python",
   "pygments_lexer": "ipython3",
   "version": "3.6.4"
  }
 },
 "nbformat": 4,
 "nbformat_minor": 2
}
